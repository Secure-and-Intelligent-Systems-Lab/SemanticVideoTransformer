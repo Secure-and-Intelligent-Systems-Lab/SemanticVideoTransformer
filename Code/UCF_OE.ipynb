{
 "cells": [
  {
   "cell_type": "code",
   "execution_count": 1,
   "id": "5407ccb3",
   "metadata": {},
   "outputs": [],
   "source": [
    "from natsort import natsorted\n",
    "from models import *\n",
    "# import tensorflow as tf\n",
    "import torch\n",
    "import torch.nn as nn\n",
    "import random \n",
    "import numpy as np\n",
    "import os\n",
    "import scipy.io\n",
    "import sent2vec\n",
    "import re\n",
    "from scipy.spatial.distance import cdist\n",
    "from sklearn.metrics import accuracy_score\n",
    "import pickle\n",
    "import numpy as np"
   ]
  },
  {
   "cell_type": "code",
   "execution_count": 2,
   "id": "29d592d8",
   "metadata": {},
   "outputs": [
    {
     "data": {
      "text/plain": [
       "'name'"
      ]
     },
     "execution_count": 2,
     "metadata": {},
     "output_type": "execute_result"
    }
   ],
   "source": [
    "labels = np.loadtxt(\"kinetics_600_labels.csv\",dtype=str,delimiter =',')\n",
    "Kin_classes = list(labels[:,1])\n",
    "Kin_classes.pop(0)"
   ]
  },
  {
   "cell_type": "code",
   "execution_count": 3,
   "id": "ff3c50d8",
   "metadata": {},
   "outputs": [],
   "source": [
    "old_labels = list(np.load(\"folders.npy\"))"
   ]
  },
  {
   "cell_type": "code",
   "execution_count": 4,
   "id": "ae4013b2",
   "metadata": {},
   "outputs": [],
   "source": [
    "predicted_embed = np.load(\"ucf_predictions_oe.npy\")\n",
    "class_embed = np.load(\"ucf_class_embeddings.npy\")\n",
    "true_embed = np.load(\"ucf_true_embeddings.npy\")"
   ]
  },
  {
   "cell_type": "code",
   "execution_count": 5,
   "id": "85055d0b",
   "metadata": {},
   "outputs": [],
   "source": [
    "def compute_accuracy(predicted_embed, class_embed, true_embed):\n",
    "    \"\"\"\n",
    "    Compute accuracy based on the closest Word2Vec class\n",
    "    \"\"\"\n",
    "    assert len(predicted_embed) == len(true_embed), \"True and predicted labels must have the same number of samples\"\n",
    "    y_pred = cdist(predicted_embed, class_embed, 'cosine').argsort(1)\n",
    "    y = cdist(true_embed, class_embed, 'cosine').argmin(1)\n",
    "    accuracy = accuracy_score(y, y_pred[:, 0]) * 100\n",
    "    accuracy_top5 = np.mean([l in p for l, p in zip(y, y_pred[:, :5])]) * 100\n",
    "    return accuracy, accuracy_top5, y_pred[:, 0]"
   ]
  },
  {
   "cell_type": "code",
   "execution_count": 6,
   "id": "dbe0040e",
   "metadata": {},
   "outputs": [],
   "source": [
    "accuracy, accuracy_top5, out_pre = compute_accuracy(predicted_embed, class_embed, true_embed)"
   ]
  },
  {
   "cell_type": "code",
   "execution_count": 7,
   "id": "8a87f621",
   "metadata": {},
   "outputs": [],
   "source": [
    "true_label = np.loadtxt(\"test.csv\",dtype=str)[:,1].astype(int)"
   ]
  },
  {
   "cell_type": "code",
   "execution_count": 8,
   "id": "71295d07",
   "metadata": {},
   "outputs": [],
   "source": [
    "accuracy_split, accuracy_split_top5 = np.zeros(10), np.zeros(10)\n",
    "for split in range(10):\n",
    "    # Select test set\n",
    "    np.random.seed(12) # fix seed for future comparability\n",
    "    sel_classes = np.random.permutation(len(class_embed))[:len(class_embed) // 2]\n",
    "    sel = [l in sel_classes for l in true_label]\n",
    "    test_classes = len(sel_classes)\n",
    "\n",
    "    # Compute accuracy\n",
    "    subclasses = np.unique(true_label[sel])\n",
    "    tl = np.array([int(np.where(l == subclasses)[0]) for l in true_label[sel]])\n",
    "    acc, acc5,yy = compute_accuracy(predicted_embed[sel], class_embed[sel_classes], true_embed[sel])\n",
    "    accuracy_split[split] = acc\n",
    "    accuracy_split_top5[split] = acc5"
   ]
  },
  {
   "cell_type": "code",
   "execution_count": 9,
   "id": "36744c94",
   "metadata": {},
   "outputs": [
    {
     "data": {
      "text/plain": [
       "67.61919315403425"
      ]
     },
     "execution_count": 9,
     "metadata": {},
     "output_type": "execute_result"
    }
   ],
   "source": [
    "np.mean(accuracy_split)"
   ]
  },
  {
   "cell_type": "code",
   "execution_count": null,
   "id": "3beada13",
   "metadata": {},
   "outputs": [],
   "source": []
  }
 ],
 "metadata": {
  "kernelspec": {
   "display_name": "Python 3",
   "language": "python",
   "name": "python3"
  },
  "language_info": {
   "codemirror_mode": {
    "name": "ipython",
    "version": 3
   },
   "file_extension": ".py",
   "mimetype": "text/x-python",
   "name": "python",
   "nbconvert_exporter": "python",
   "pygments_lexer": "ipython3",
   "version": "3.8.8"
  }
 },
 "nbformat": 4,
 "nbformat_minor": 5
}
